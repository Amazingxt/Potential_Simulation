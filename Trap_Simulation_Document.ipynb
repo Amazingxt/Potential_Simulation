{
 "cells": [
  {
   "cell_type": "markdown",
   "metadata": {},
   "source": [
    "# 利用狄利克雷边界条件解决拉普拉斯问题"
   ]
  },
  {
   "cell_type": "markdown",
   "metadata": {},
   "source": [
    "### 背景[1]"
   ]
  },
  {
   "cell_type": "markdown",
   "metadata": {},
   "source": [
    "In this tutorial, we will solve a simple Laplace problem inside the unit sphere with Dirichlet boundary conditions. Let $\\Omega$ be the unit sphere with boundary $\\Gamma$. Let $\\nu$ be the outward pointing normal on $\\Gamma$. The PDE and boundary conditions are given by\n",
    "\n",
    "\\begin{align}\n",
    "\\Delta u &= 0&&\\text{in }\\Omega,\\\\\n",
    "u &= f&&\\text{on }\\Gamma.\n",
    "\\end{align}\n",
    "\n",
    "The boundary data is a source $\\hat{u}$ located at the point $(0.9,0,0)$.\n",
    "$$\n",
    "\\hat{u}(\\mathbf x)=\\frac{1}{4\\pi\\sqrt{(x-0.9)^2+y^2+z^2}}.\n",
    "$$"
   ]
  },
  {
   "cell_type": "markdown",
   "metadata": {},
   "source": [
    "For this example, we will use a direct integral equation of the first kind. Let\n",
    "$$\n",
    "g(\\mathbf x,\\mathbf y) = \\frac{1}{4\\pi |\\mathbf x-\\mathbf y|}\n",
    "$$\n",
    "be the Green's function for Laplace in three dimensions. From Green's representation theorem, it follows that every harmonic function $u$ in $\\Omega$ satisfies\n",
    "\n",
    "$$\n",
    "u(\\mathbf x) = \\int_{\\Gamma} g(\\mathbf x,\\mathbf y)\\frac{\\partial u(\\mathbf y)}{\\partial \\nu(\\mathbf{y})}\\mathrm{d}\\mathbf y-\\int_{\\Gamma}\\frac{\\partial g(\\mathbf x,\\mathbf y)}{\\partial \\nu(\\mathbf{y})}u(\\mathbf y)\\mathrm{d}\\mathbf y,~\\mathbf x\\in\\Omega\\setminus\\Gamma\n",
    "$$\n",
    "\n",
    "or equivalantly\n",
    "\n",
    "$$\n",
    "u(\\mathbf x) = \\left[\\mathcal{V}\\frac{\\partial u(\\mathbf y)}{\\partial \\nu(\\mathbf{y})}\\right] (\\mathbf{x}) - \\left[\\mathcal{K}u\\right] (\\mathbf{x}),~\\mathbf x\\in\\Omega\\setminus\\Gamma,\n",
    "$$\n",
    "\n",
    "where $\\mathcal{V}$ and $\\mathcal{K}$ are the <a href='https://bempp.com/2017/07/11/available_operators/'>single and double layer potential operators</a>.\n",
    "\n",
    "Taking the limit $\\mathbf x\\rightarrow \\Gamma$ we obtain the boundary integral equation\n",
    "\n",
    "$$\n",
    "\\left[\\mathsf{V}\\frac{\\partial u}{\\partial n}\\right] (\\mathbf x)=\\left[(\\tfrac12\\mathsf{Id}+\\mathsf{K})u\\right] (\\mathbf x),~\\mathbf x\\in\\Gamma.\n",
    "$$\n",
    "\n",
    "Here, $\\mathsf{V}$ and $\\mathsf{K}$ are the <a href='https://bempp.com/2017/07/11/available_operators/'>single and double layer boundary operators</a>."
   ]
  },
  {
   "cell_type": "markdown",
   "metadata": {},
   "source": [
    "[1]背景及部分操作内容参考自 bempp tutorials\n"
   ]
  },
  {
   "cell_type": "markdown",
   "metadata": {},
   "source": [
    "### 利用Dirichlet 边界条件计算离子阱电极外电势分布"
   ]
  },
  {
   "cell_type": "markdown",
   "metadata": {},
   "source": [
    "步骤：\n",
    "* 利用Gmsh制作电极排布，并划分2D网格，生成.msh文件。\n",
    "  - 利用.geo脚本生成电极，注意需要用 physcial surface 标记不同电极的域 \n",
    "  - 脚本里设置的电极尺寸在下面的计算中将会用到\n",
    "    \n",
    "* 导入msh文件，执行计算\n"
   ]
  },
  {
   "cell_type": "markdown",
   "metadata": {},
   "source": [
    "### 计算电势的空间分布情况"
   ]
  },
  {
   "cell_type": "markdown",
   "metadata": {},
   "source": [
    "利用Bempp解决问题. 首先导入Bempp and NumPy包."
   ]
  },
  {
   "cell_type": "code",
   "execution_count": null,
   "metadata": {},
   "outputs": [],
   "source": [
    "import bempp.api\n",
    "import numpy as np\n",
    "import meshio\n",
    "import pygmsh as pg"
   ]
  },
  {
   "cell_type": "markdown",
   "metadata": {},
   "source": [
    "导入生成的.msh文件"
   ]
  },
  {
   "cell_type": "code",
   "execution_count": null,
   "metadata": {
    "collapsed": true
   },
   "outputs": [],
   "source": [
    "#grid = bempp.api.shapes.sphere(h=0.1)\n",
    "grid = bempp.api.import_grid('Blade_new.msh')"
   ]
  },
  {
   "cell_type": "markdown",
   "metadata": {},
   "source": [
    "We now define the <a href='https://bempp.com/2017/07/11/function-spaces/'>spaces</a>. For this example we will use two spaces: the space of continuous, piecewise linear functions; and the space of piecewise constant functions. The space of piecewise constant functions has the right smoothness for the unknown Neumann data. We will use continuous, piecewise linear functions to represent the known Dirichlet data.\n",
    "\n",
    "狄利克雷是第一类边界条件，诺依曼是第二类边界条件，计算时需要先为两类边界条件划分空间"
   ]
  },
  {
   "cell_type": "code",
   "execution_count": null,
   "metadata": {
    "collapsed": true
   },
   "outputs": [],
   "source": [
    "dp0_space = bempp.api.function_space(grid, \"DP\", 0)\n",
    "p1_space = bempp.api.function_space(grid, \"P\", 1)"
   ]
  },
  {
   "cell_type": "markdown",
   "metadata": {},
   "source": [
    "We can now define the <a href='https://bempp.com/2017/07/11/operators/'>operators</a>. We need the identity, single layer, and double layer boundary operator.\n",
    "\n",
    "定义单层和双层的边界算符，即 $\\mathcal{V}$ 和 $\\mathcal{K}$"
   ]
  },
  {
   "cell_type": "code",
   "execution_count": null,
   "metadata": {
    "collapsed": true
   },
   "outputs": [],
   "source": [
    "identity = bempp.api.operators.boundary.sparse.identity(\n",
    "    p1_space, p1_space, dp0_space)\n",
    "dlp = bempp.api.operators.boundary.laplace.double_layer(\n",
    "    p1_space, p1_space, dp0_space)\n",
    "slp = bempp.api.operators.boundary.laplace.single_layer(\n",
    "    dp0_space, p1_space, dp0_space)"
   ]
  },
  {
   "cell_type": "markdown",
   "metadata": {},
   "source": [
    "We now define the <a href='https://bempp.com/2017/07/11/grid-functions/'>GridFunction object</a> on the sphere grid that represents the Dirichlet data.\n",
    "\n",
    "接下来确定狄利克雷边界上的数值，此处即用到了生成.msh文件时的surface的分组，在我的文件中，surface[1] group了一对相对的电极的表面，将其作为RF的一对电极，surface[2] group了另外的一对电极，将其作为DC的电极表面。"
   ]
  },
  {
   "cell_type": "code",
   "execution_count": null,
   "metadata": {
    "scrolled": true
   },
   "outputs": [],
   "source": [
    "i =0\n",
    "def dirichlet_data(x, n, domain_index, result):\n",
    "#     print(domain_index)\n",
    "#     result[0] = 1./(4 * np.pi * ((x[0] - 1.5)**2 + x[1]**2 + x[2]**2)**(0.5))\n",
    "    global i\n",
    "    if domain_index in [1]:      # 在不同区域设置相应的电压\n",
    "        result[0] = 300.0 * np.sin(np.pi / 6 * 9)\n",
    "        i+=1\n",
    "#         print(domain_index)\n",
    "    elif domain_index in [2]:\n",
    "        result[0] = 0.0\n",
    "    else:\n",
    "        result[0] = 0.0\n",
    "#        print('other')\n",
    "#        print(domain_index)\n",
    "    \n",
    "dirichlet_fun = bempp.api.GridFunction(p1_space, fun=dirichlet_data)"
   ]
  },
  {
   "cell_type": "markdown",
   "metadata": {},
   "source": [
    "We next assemble the right-hand side of the boundary integral equation, given by $$(-\\tfrac12\\mathsf{Id}+\\mathsf{K})u.$$"
   ]
  },
  {
   "cell_type": "code",
   "execution_count": null,
   "metadata": {},
   "outputs": [],
   "source": [
    "%time rhs = (-.5 * identity + dlp) * dirichlet_fun  # solve exterior\n",
    "# rhs = (.5 * identity + dlp) * dirichlet_fun  # solve interior"
   ]
  },
  {
   "cell_type": "markdown",
   "metadata": {},
   "source": [
    "We now <a href='https://bempp.com/2017/07/12/solving-linear-systems/'>solve the linear system</a> using a conjugate gradient (CG) method."
   ]
  },
  {
   "cell_type": "code",
   "execution_count": null,
   "metadata": {},
   "outputs": [],
   "source": [
    "%time neumann_fun, info = bempp.api.linalg.cg(slp, rhs, tol=1E-3)"
   ]
  },
  {
   "cell_type": "markdown",
   "metadata": {},
   "source": [
    "We now want to provide a simple plot of the solution in the $(x,y)$ plane for $z=0$. We first define points at which to plot the solution.\n"
   ]
  },
  {
   "cell_type": "code",
   "execution_count": null,
   "metadata": {
    "collapsed": true
   },
   "outputs": [],
   "source": [
    "# plot_grid 计算电势时包含的范围，尽量包含所有想要求解的边界条件，此时即要注意在生成电极时使用的尺寸。 单位:米\n",
    "# n_grid_points 将plot_grid 分为多少份，越大精细度越高，但同时计算时间越长\n",
    "# np.mgrid() 如果是两维，说明计算电势时只计算了一个平面，此时的边界条件是线\n",
    "# 如果是三维， 则计算空间电势，此时的边界条件是面，计算时间增长\n",
    "\n",
    "n_grid_points = 1000\n",
    "plot_grid = np.mgrid[-10000:10000:n_grid_points*1j, -10000:10000:n_grid_points*1j]\n",
    "points = np.vstack((plot_grid[0].ravel(),\n",
    "                    plot_grid[1].ravel(),\n",
    "                    np.zeros(plot_grid[0].size)))"
   ]
  },
  {
   "cell_type": "markdown",
   "metadata": {},
   "source": [
    "The variable `points` now contains in its columns the coordinates of the evaluation points. We can now use Green's representation theorem to evaluate the solution on these points. Note in particular the last line of the following code. It is a direct implementation of Green's representation theorem."
   ]
  },
  {
   "cell_type": "code",
   "execution_count": null,
   "metadata": {},
   "outputs": [],
   "source": [
    "%%time\n",
    "slp_pot = bempp.api.operators.potential.laplace.single_layer(\n",
    "    dp0_space, points)\n",
    "dlp_pot = bempp.api.operators.potential.laplace.double_layer(\n",
    "    p1_space, points)\n",
    "u_evaluated = slp_pot * neumann_fun - dlp_pot * dirichlet_fun\n"
   ]
  },
  {
   "cell_type": "markdown",
   "metadata": {},
   "source": [
    "### 画图分析空间的电势情况"
   ]
  },
  {
   "cell_type": "markdown",
   "metadata": {},
   "source": [
    "分别作出Z = 0平面处的电势的热图、三维图和等势面图"
   ]
  },
  {
   "cell_type": "code",
   "execution_count": null,
   "metadata": {},
   "outputs": [],
   "source": [
    "# The next command ensures that plots are shown within the IPython notebook\n",
    "%matplotlib inline\n",
    "\n",
    "import matplotlib\n",
    "from matplotlib import pylab as plt\n",
    "import seaborn as sns\n",
    "# halfrange*2 代表了画图时画出的电势的范围\n",
    "halfrange = 40\n",
    "\n",
    "\n",
    "# Filter out solution values that are associated with points outside the unit circle.\n",
    "u_evaluated = u_evaluated.reshape((n_grid_points,n_grid_points))\n",
    "\n",
    "radius = np.sqrt(plot_grid[0]**2 + plot_grid[1]**2)\n",
    "#u_evaluated[radius>1] = np.nan\n",
    "\n",
    "# Plot the image\n",
    "\n",
    "plt.figure(figsize=(10,6))\n",
    "cmap = sns.diverging_palette(220, 20, n=7,as_cmap=True)\n",
    "#data = u_evaluated\n",
    "data = u_evaluated[n_grid_points/2-halfrange:n_grid_points/2+halfrange,n_grid_points/2-halfrange:n_grid_points/2+halfrange]\n",
    "\n",
    "plt.imshow(data,aspect=1.0,cmap=cmap)\n",
    "plt.title('Computed solution')\n",
    "plt.grid()\n",
    "\n",
    "\n",
    "# 3D图\n",
    "from mpl_toolkits.mplot3d import Axes3D\n",
    "X = np.arange(-halfrange,halfrange,1)\n",
    "Y = np.arange(-halfrange,halfrange,1)\n",
    "X, Y = np.meshgrid(X,Y)\n",
    "fig = plt.figure()\n",
    "ax = Axes3D(fig)\n",
    "ax.plot_surface(X, Y, data, rstride=1, cstride=1, cmap='rainbow')\n",
    "ax.set_title('potential-3D')\n",
    "plt.show()\n",
    "\n",
    "# 等势面图\n",
    "plt.contourf(X, Y, data, 8, alpha=.75, cmap=plt.cm.hot)\n",
    "plt.contour(X, Y, data, 8, colors='black', linewidth=.5)\n",
    "plt.title('equipotential surface')\n",
    "plt.show()"
   ]
  },
  {
   "cell_type": "markdown",
   "metadata": {},
   "source": [
    "计算电势最低点和电势最高点的夹角"
   ]
  },
  {
   "cell_type": "code",
   "execution_count": null,
   "metadata": {},
   "outputs": [],
   "source": [
    "#compute the angle of two axis\n",
    "max_position = tuple(np.where(data == np.min(data)) - np.array(len(data)/2)) \n",
    "min_position = tuple(np.where(data == np.max(data)) - np.array(len(data)/2))\n",
    "multi = max_position[0] * min_position[0] + max_position[1] * min_position[1]\n",
    "molde = np.sqrt(max_position[0] ** 2 + max_position[1] **2) * np.sqrt(min_position[0] ** 2 + min_position[1] **2)\n",
    "angle = np.arccos(multi / molde)\n",
    "\n",
    "print angle / np.pi * 180  # unit: degree"
   ]
  },
  {
   "cell_type": "markdown",
   "metadata": {
    "collapsed": true
   },
   "source": [
    "画出X=0和Y=0处的电势线"
   ]
  },
  {
   "cell_type": "code",
   "execution_count": null,
   "metadata": {},
   "outputs": [],
   "source": [
    "import seaborn as sns\n",
    "\n",
    "data = u_evaluated.T[n_grid_points/2,n_grid_points/2-10:n_grid_points/2+10]\n",
    "plt.plot(data,'ro')\n",
    "\n",
    "# 多项式拟合得到的数据数据\n",
    "x = np.arange(len(data))\n",
    "opts = np.polyfit(x,data,4)\n",
    "print(opts[1]/opts[2],opts) # 3阶与二阶的比值"
   ]
  },
  {
   "cell_type": "code",
   "execution_count": null,
   "metadata": {},
   "outputs": [],
   "source": [
    "import seaborn as sns\n",
    "data = u_evaluated.T[n_grid_points/2-10:n_grid_points/2+10,n_grid_points/2+10]\n",
    "plt.plot(data,'ro')\n",
    "x = np.arange(len(data))\n",
    "opts = np.polyfit(x,data,4)\n",
    "print(opts[1]/opts[2],opts) # 3阶与二阶的比值"
   ]
  },
  {
   "cell_type": "markdown",
   "metadata": {},
   "source": [
    "### 计算RF电势旋转下的赝势能"
   ]
  },
  {
   "cell_type": "markdown",
   "metadata": {},
   "source": [
    "生成三维网格重新计算电势"
   ]
  },
  {
   "cell_type": "code",
   "execution_count": null,
   "metadata": {},
   "outputs": [],
   "source": [
    "%%time\n",
    "import datetime\n",
    "\n",
    "# 打印出计算这个cell需要的时间\n",
    "print(datetime.datetime.now())\n",
    "\n",
    "n_grid_points = 1000\n",
    "L = 10000\n",
    "dL = L/n_grid_points\n",
    "plot_grid = np.mgrid[-L:L:n_grid_points*1j, -L:L:n_grid_points*1j,-L:L:n_grid_points*1j]\n",
    "points = np.vstack((plot_grid[0].ravel(),\n",
    "                    plot_grid[1].ravel(),\n",
    "                    plot_grid[2].ravel()))\n",
    "slp_pot = bempp.api.operators.potential.laplace.single_layer(\n",
    "    dp0_space, points)\n",
    "dlp_pot = bempp.api.operators.potential.laplace.double_layer(\n",
    "    p1_space, points)\n",
    "u_evaluated = slp_pot * neumann_fun - dlp_pot * dirichlet_fun\n",
    "\n",
    "print(datetime.datetime.now())\n"
   ]
  },
  {
   "cell_type": "markdown",
   "metadata": {},
   "source": [
    "利用电势求三个方向的梯度得出电场强度"
   ]
  },
  {
   "cell_type": "code",
   "execution_count": null,
   "metadata": {
    "collapsed": true
   },
   "outputs": [],
   "source": [
    "u3D =u_evaluated.reshape(((n_grid_points,n_grid_points,n_grid_points)))\n",
    "Ex, Ey, Ez = np.gradient(u3D)"
   ]
  },
  {
   "cell_type": "markdown",
   "metadata": {},
   "source": [
    "计算赝势能并画图"
   ]
  },
  {
   "cell_type": "code",
   "execution_count": null,
   "metadata": {},
   "outputs": [],
   "source": [
    "#计算赝势能\n",
    "fig, axarr = plt.subplots(1,3,figsize=(15,3.6))\n",
    "\n",
    "from scipy.constants import m_n, m_p, m_u,e, electron_volt, pi\n",
    "from scipy import ndimage\n",
    "\n",
    "omega = 25e6*2*pi\n",
    "\n",
    "# 赝势能公式\n",
    "U_eff = e**2*(Ex**2+Ey**2+Ez**2)/(4*171*m_n*omega**2)/electron_volt /(dL*1e-6)**2   # L unit is um \n",
    "\n",
    "ax,ay = np.mgrid[-L:L:n_grid_points*1j, -L:L:n_grid_points*1j]\n",
    "cmap = sns.diverging_palette(220, 20, n=7,as_cmap=True)\n",
    "\n",
    "\n",
    "# dat= ndimage.zoom(U_eff[25], 3)\n",
    "a = axarr[0].contourf(ax,ay,U_eff[25],cmap=cmap)\n",
    "axarr[0].grid()\n",
    "axarr[0].axis('equal')\n",
    "fig.colorbar(a, ax=axarr[0], shrink=0.9, format='%1.1e')\n",
    "\n",
    "a = axarr[1].contourf(ax,ay,U_eff[:,25,:],cmap=cmap)\n",
    "axarr[1].grid()\n",
    "axarr[1].axis('equal')\n",
    "fig.colorbar(a, ax=axarr[1], shrink=0.9, format='%1.1e')\n",
    "\n",
    "a = axarr[2].contourf(ax,ay,U_eff[:,:,25],cmap=cmap)\n",
    "axarr[2].grid()\n",
    "axarr[2].axis('equal')\n",
    "fig.colorbar(a, ax=axarr[2], shrink=0.9, format='%1.1e')\n",
    "\n",
    "# a = axarr[1].imshow(U_eff[:,25,:],cmap=cmap)\n",
    "# axarr[1].grid()\n",
    "\n",
    "# a = axarr[2].imshow(U_eff[:,:,25],cmap=cmap)\n",
    "# axarr[2].grid()\n",
    "# a.colorbar()\n"
   ]
  }
 ],
 "metadata": {
  "kernelspec": {
   "display_name": "Python 2",
   "language": "python",
   "name": "python2"
  },
  "language_info": {
   "codemirror_mode": {
    "name": "ipython",
    "version": 2
   },
   "file_extension": ".py",
   "mimetype": "text/x-python",
   "name": "python",
   "nbconvert_exporter": "python",
   "pygments_lexer": "ipython2",
   "version": "2.7.9"
  },
  "toc": {
   "colors": {
    "hover_highlight": "#DAA520",
    "navigate_num": "#000000",
    "navigate_text": "#333333",
    "running_highlight": "#FF0000",
    "selected_highlight": "#FFD700",
    "sidebar_border": "#EEEEEE",
    "wrapper_background": "#FFFFFF"
   },
   "moveMenuLeft": true,
   "nav_menu": {
    "height": "101px",
    "width": "252px"
   },
   "navigate_menu": true,
   "number_sections": true,
   "sideBar": true,
   "threshold": 4,
   "toc_cell": false,
   "toc_section_display": "block",
   "toc_window_display": true,
   "widenNotebook": false
  }
 },
 "nbformat": 4,
 "nbformat_minor": 1
}

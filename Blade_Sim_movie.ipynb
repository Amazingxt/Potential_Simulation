{
 "cells": [
  {
   "cell_type": "markdown",
   "metadata": {},
   "source": [
    "# 采集多副静电势的数据"
   ]
  },
  {
   "cell_type": "code",
   "execution_count": 82,
   "metadata": {},
   "outputs": [],
   "source": [
    "import bempp.api\n",
    "import numpy as np\n",
    "import meshio\n",
    "import pygmsh as pg\n",
    "\n",
    "grid = bempp.api.import_grid('Blade_new.msh')\n",
    "\n",
    "dp0_space = bempp.api.function_space(grid, \"DP\", 0)\n",
    "p1_space = bempp.api.function_space(grid, \"P\", 1)\n",
    "\n",
    "identity = bempp.api.operators.boundary.sparse.identity(\n",
    "    p1_space, p1_space, dp0_space)\n",
    "dlp = bempp.api.operators.boundary.laplace.double_layer(\n",
    "    p1_space, p1_space, dp0_space)\n",
    "slp = bempp.api.operators.boundary.laplace.single_layer(\n",
    "    dp0_space, p1_space, dp0_space)\n",
    "\n",
    "\n",
    "data = []"
   ]
  },
  {
   "cell_type": "markdown",
   "metadata": {},
   "source": [
    "RF峰值电压设置为300V,sin函数扫描"
   ]
  },
  {
   "cell_type": "code",
   "execution_count": 83,
   "metadata": {},
   "outputs": [],
   "source": [
    "i = 0\n",
    "def dirichlet_data(x, n, domain_index, result):\n",
    "#     print(domain_index)\n",
    "#     result[0] = 1./(4 * np.pi * ((x[0] - 1.5)**2 + x[1]**2 + x[2]**2)**(0.5))\n",
    "    global i\n",
    "    if domain_index in [1]:      # 在不同区域设置相应的电压\n",
    "        result[0] = 300.0 * np.sin(np.pi / 6 * i)\n",
    "  #         print(domain_index)\n",
    "    elif domain_index in [2]:\n",
    "         result[0] = 0.0\n",
    "    else:\n",
    "         result[0] = 0.0\n",
    " #        print('other')\n",
    " #        print(domain_index)\n",
    "    i += 1\n",
    "\n",
    "    \n"
   ]
  },
  {
   "cell_type": "code",
   "execution_count": 86,
   "metadata": {},
   "outputs": [],
   "source": [
    "def data_multy():\n",
    "    halfrange = 10\n",
    "    dirichlet_fun = bempp.api.GridFunction(p1_space, fun=dirichlet_data)\n",
    "    rhs = (-.5 * identity + dlp) * dirichlet_fun\n",
    "    neumann_fun, info = bempp.api.linalg.cg(slp, rhs, tol=1E-3)\n",
    "    n_grid_points = 1000\n",
    "    plot_grid = np.mgrid[-10000:10000:n_grid_points*1j, -10000:10000:n_grid_points*1j]\n",
    "    points = np.vstack((plot_grid[0].ravel(),\n",
    "                        plot_grid[1].ravel(),\n",
    "                        np.zeros(plot_grid[0].size)))\n",
    "    slp_pot = bempp.api.operators.potential.laplace.single_layer(\n",
    "        dp0_space, points)\n",
    "    dlp_pot = bempp.api.operators.potential.laplace.double_layer(\n",
    "        p1_space, points)\n",
    "    u_evaluated = slp_pot * neumann_fun - dlp_pot * dirichlet_fun\n",
    "    u_evaluated = u_evaluated.reshape((n_grid_points,n_grid_points))\n",
    "    radius = np.sqrt(plot_grid[0]**2 + plot_grid[1]**2)\n",
    "    # //  but not / ,ensure n_grid_points//2 is int type\n",
    "    data_single = u_evaluated[n_grid_points//2-halfrange:n_grid_points//2+halfrange,n_grid_points//2-halfrange:n_grid_points//2+halfrange]\n",
    "    data.append(data_single)"
   ]
  },
  {
   "cell_type": "code",
   "execution_count": 85,
   "metadata": {},
   "outputs": [
    {
     "name": "stdout",
     "output_type": "stream",
     "text": [
      "CPU times: user 2d 2h 47min 1s, sys: 13min 23s, total: 2d 3h 24s\n",
      "Wall time: 7h 42min 13s\n"
     ]
    }
   ],
   "source": [
    "%%time\n",
    "\n",
    "# pickle the data of electric potential for generate movie\n",
    "# range() is the number of picture and every picture interval 30 degree\n",
    "\n",
    "for i in range(72):\n",
    "    data_multy()\n",
    "    \n",
    "import pickle\n",
    "\n",
    "f = open('data_new', 'wb')\n",
    "pickle.dump(data, f)\n",
    "f.close()"
   ]
  }
 ],
 "metadata": {
  "kernelspec": {
   "display_name": "Python 2",
   "language": "python",
   "name": "python2"
  },
  "language_info": {
   "codemirror_mode": {
    "name": "ipython",
    "version": 2
   },
   "file_extension": ".py",
   "mimetype": "text/x-python",
   "name": "python",
   "nbconvert_exporter": "python",
   "pygments_lexer": "ipython2",
   "version": "2.7.9"
  },
  "toc": {
   "colors": {
    "hover_highlight": "#DAA520",
    "navigate_num": "#000000",
    "navigate_text": "#333333",
    "running_highlight": "#FF0000",
    "selected_highlight": "#FFD700",
    "sidebar_border": "#EEEEEE",
    "wrapper_background": "#FFFFFF"
   },
   "moveMenuLeft": true,
   "nav_menu": {
    "height": "30px",
    "width": "252px"
   },
   "navigate_menu": true,
   "number_sections": true,
   "sideBar": true,
   "threshold": 4,
   "toc_cell": false,
   "toc_section_display": "block",
   "toc_window_display": true,
   "widenNotebook": false
  }
 },
 "nbformat": 4,
 "nbformat_minor": 2
}
